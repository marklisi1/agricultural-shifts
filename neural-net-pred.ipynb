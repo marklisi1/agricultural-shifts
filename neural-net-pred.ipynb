{
 "cells": [
  {
   "cell_type": "code",
   "execution_count": 23,
   "metadata": {},
   "outputs": [],
   "source": [
    "import pandas as pd\n",
    "import tensorflow as tf\n",
    "import numpy as np\n",
    "from tensorflow.keras import layers"
   ]
  },
  {
   "cell_type": "code",
   "execution_count": 24,
   "metadata": {},
   "outputs": [
    {
     "data": {
      "text/html": [
       "<div>\n",
       "<style scoped>\n",
       "    .dataframe tbody tr th:only-of-type {\n",
       "        vertical-align: middle;\n",
       "    }\n",
       "\n",
       "    .dataframe tbody tr th {\n",
       "        vertical-align: top;\n",
       "    }\n",
       "\n",
       "    .dataframe thead th {\n",
       "        text-align: right;\n",
       "    }\n",
       "</style>\n",
       "<table border=\"1\" class=\"dataframe\">\n",
       "  <thead>\n",
       "    <tr style=\"text-align: right;\">\n",
       "      <th></th>\n",
       "      <th>Nitrogen</th>\n",
       "      <th>phosphorus</th>\n",
       "      <th>potassium</th>\n",
       "      <th>temperature</th>\n",
       "      <th>humidity</th>\n",
       "      <th>ph</th>\n",
       "      <th>rainfall</th>\n",
       "      <th>label</th>\n",
       "    </tr>\n",
       "  </thead>\n",
       "  <tbody>\n",
       "    <tr>\n",
       "      <th>0</th>\n",
       "      <td>90</td>\n",
       "      <td>42</td>\n",
       "      <td>43</td>\n",
       "      <td>20.879744</td>\n",
       "      <td>82.002744</td>\n",
       "      <td>6.502985</td>\n",
       "      <td>202.935536</td>\n",
       "      <td>rice</td>\n",
       "    </tr>\n",
       "    <tr>\n",
       "      <th>1</th>\n",
       "      <td>85</td>\n",
       "      <td>58</td>\n",
       "      <td>41</td>\n",
       "      <td>21.770462</td>\n",
       "      <td>80.319644</td>\n",
       "      <td>7.038096</td>\n",
       "      <td>226.655537</td>\n",
       "      <td>rice</td>\n",
       "    </tr>\n",
       "    <tr>\n",
       "      <th>2</th>\n",
       "      <td>60</td>\n",
       "      <td>55</td>\n",
       "      <td>44</td>\n",
       "      <td>23.004459</td>\n",
       "      <td>82.320763</td>\n",
       "      <td>7.840207</td>\n",
       "      <td>263.964248</td>\n",
       "      <td>rice</td>\n",
       "    </tr>\n",
       "    <tr>\n",
       "      <th>3</th>\n",
       "      <td>74</td>\n",
       "      <td>35</td>\n",
       "      <td>40</td>\n",
       "      <td>26.491096</td>\n",
       "      <td>80.158363</td>\n",
       "      <td>6.980401</td>\n",
       "      <td>242.864034</td>\n",
       "      <td>rice</td>\n",
       "    </tr>\n",
       "    <tr>\n",
       "      <th>4</th>\n",
       "      <td>78</td>\n",
       "      <td>42</td>\n",
       "      <td>42</td>\n",
       "      <td>20.130175</td>\n",
       "      <td>81.604873</td>\n",
       "      <td>7.628473</td>\n",
       "      <td>262.717340</td>\n",
       "      <td>rice</td>\n",
       "    </tr>\n",
       "  </tbody>\n",
       "</table>\n",
       "</div>"
      ],
      "text/plain": [
       "   Nitrogen  phosphorus  potassium  temperature   humidity        ph  \\\n",
       "0        90          42         43    20.879744  82.002744  6.502985   \n",
       "1        85          58         41    21.770462  80.319644  7.038096   \n",
       "2        60          55         44    23.004459  82.320763  7.840207   \n",
       "3        74          35         40    26.491096  80.158363  6.980401   \n",
       "4        78          42         42    20.130175  81.604873  7.628473   \n",
       "\n",
       "     rainfall label  \n",
       "0  202.935536  rice  \n",
       "1  226.655537  rice  \n",
       "2  263.964248  rice  \n",
       "3  242.864034  rice  \n",
       "4  262.717340  rice  "
      ]
     },
     "execution_count": 24,
     "metadata": {},
     "output_type": "execute_result"
    }
   ],
   "source": [
    "crops = pd.read_csv('data/Crop_recommendation.csv')\n",
    "crops = crops.drop(columns=[\"Unnamed: 8\", \"Unnamed: 9\"])\n",
    "crops.head()"
   ]
  },
  {
   "cell_type": "code",
   "execution_count": 25,
   "metadata": {},
   "outputs": [],
   "source": [
    "# One-hot encoding for the labels\n",
    "one_hots = pd.get_dummies(crops['label'])\n",
    "crops = crops.drop(['label'], axis=1)\n",
    "\n",
    "X = crops\n",
    "y = one_hots"
   ]
  },
  {
   "cell_type": "code",
   "execution_count": 26,
   "metadata": {},
   "outputs": [],
   "source": [
    "from sklearn.model_selection import train_test_split\n",
    "X_train, X_test, y_train, y_test = train_test_split(X, y, test_size=0.2, random_state=0)"
   ]
  },
  {
   "cell_type": "code",
   "execution_count": 27,
   "metadata": {},
   "outputs": [
    {
     "name": "stdout",
     "output_type": "stream",
     "text": [
      "Model: \"sequential_4\"\n",
      "_________________________________________________________________\n",
      " Layer (type)                Output Shape              Param #   \n",
      "=================================================================\n",
      " dense_17 (Dense)            (None, 64)                512       \n",
      "                                                                 \n",
      " dense_18 (Dense)            (None, 128)               8320      \n",
      "                                                                 \n",
      " dense_19 (Dense)            (None, 128)               16512     \n",
      "                                                                 \n",
      " dense_20 (Dense)            (None, 22)                2838      \n",
      "                                                                 \n",
      "=================================================================\n",
      "Total params: 28,182\n",
      "Trainable params: 28,182\n",
      "Non-trainable params: 0\n",
      "_________________________________________________________________\n"
     ]
    }
   ],
   "source": [
    "model = tf.keras.Sequential(\n",
    "    [\n",
    "        layers.Dense(64, activation='relu', input_dim = 7),\n",
    "        layers.Dense(128),\n",
    "        layers.Dense(128),\n",
    "        layers.Dense(22, activation='softmax'),\n",
    "    ]\n",
    ")\n",
    "\n",
    "model.summary()"
   ]
  },
  {
   "cell_type": "code",
   "execution_count": 28,
   "metadata": {},
   "outputs": [],
   "source": [
    "X_train = X_train.to_numpy()\n",
    "y_train = y_train.to_numpy()\n",
    "X_test = X_test.to_numpy()\n",
    "y_test = y_test.to_numpy()"
   ]
  },
  {
   "cell_type": "code",
   "execution_count": 29,
   "metadata": {},
   "outputs": [
    {
     "name": "stdout",
     "output_type": "stream",
     "text": [
      "Epoch 1/25\n",
      "13/13 [==============================] - 0s 9ms/step - loss: 20.1155 - accuracy: 0.1345 - val_loss: 6.1353 - val_accuracy: 0.1591\n",
      "Epoch 2/25\n",
      "13/13 [==============================] - 0s 3ms/step - loss: 3.8802 - accuracy: 0.3415 - val_loss: 2.5177 - val_accuracy: 0.4830\n",
      "Epoch 3/25\n",
      "13/13 [==============================] - 0s 3ms/step - loss: 1.8198 - accuracy: 0.5612 - val_loss: 1.2265 - val_accuracy: 0.6705\n",
      "Epoch 4/25\n",
      "13/13 [==============================] - 0s 2ms/step - loss: 0.8816 - accuracy: 0.7481 - val_loss: 0.6300 - val_accuracy: 0.7670\n",
      "Epoch 5/25\n",
      "13/13 [==============================] - 0s 2ms/step - loss: 0.4673 - accuracy: 0.8295 - val_loss: 0.4248 - val_accuracy: 0.8352\n",
      "Epoch 6/25\n",
      "13/13 [==============================] - 0s 2ms/step - loss: 0.3068 - accuracy: 0.8996 - val_loss: 0.3304 - val_accuracy: 0.8920\n",
      "Epoch 7/25\n",
      "13/13 [==============================] - 0s 2ms/step - loss: 0.2679 - accuracy: 0.9034 - val_loss: 0.3279 - val_accuracy: 0.8920\n",
      "Epoch 8/25\n",
      "13/13 [==============================] - 0s 2ms/step - loss: 0.2710 - accuracy: 0.8958 - val_loss: 0.2771 - val_accuracy: 0.9091\n",
      "Epoch 9/25\n",
      "13/13 [==============================] - 0s 2ms/step - loss: 0.2735 - accuracy: 0.9015 - val_loss: 0.2961 - val_accuracy: 0.8864\n",
      "Epoch 10/25\n",
      "13/13 [==============================] - 0s 3ms/step - loss: 0.2667 - accuracy: 0.9034 - val_loss: 0.3170 - val_accuracy: 0.8750\n",
      "Epoch 11/25\n",
      "13/13 [==============================] - 0s 3ms/step - loss: 0.2780 - accuracy: 0.9078 - val_loss: 0.4987 - val_accuracy: 0.8239\n",
      "Epoch 12/25\n",
      "13/13 [==============================] - 0s 2ms/step - loss: 0.3156 - accuracy: 0.8914 - val_loss: 0.2591 - val_accuracy: 0.8920\n",
      "Epoch 13/25\n",
      "13/13 [==============================] - 0s 2ms/step - loss: 0.2111 - accuracy: 0.9186 - val_loss: 0.2856 - val_accuracy: 0.8636\n",
      "Epoch 14/25\n",
      "13/13 [==============================] - 0s 3ms/step - loss: 0.2634 - accuracy: 0.9179 - val_loss: 0.2025 - val_accuracy: 0.8920\n",
      "Epoch 15/25\n",
      "13/13 [==============================] - 0s 3ms/step - loss: 0.2037 - accuracy: 0.9242 - val_loss: 0.2063 - val_accuracy: 0.9318\n",
      "Epoch 16/25\n",
      "13/13 [==============================] - 0s 3ms/step - loss: 0.2232 - accuracy: 0.9274 - val_loss: 0.4391 - val_accuracy: 0.8750\n",
      "Epoch 17/25\n",
      "13/13 [==============================] - 0s 3ms/step - loss: 0.2586 - accuracy: 0.9268 - val_loss: 0.1758 - val_accuracy: 0.9489\n",
      "Epoch 18/25\n",
      "13/13 [==============================] - 0s 2ms/step - loss: 0.1756 - accuracy: 0.9451 - val_loss: 0.1346 - val_accuracy: 0.9602\n",
      "Epoch 19/25\n",
      "13/13 [==============================] - 0s 3ms/step - loss: 0.2621 - accuracy: 0.9299 - val_loss: 0.3090 - val_accuracy: 0.8977\n",
      "Epoch 20/25\n",
      "13/13 [==============================] - 0s 2ms/step - loss: 0.2710 - accuracy: 0.9148 - val_loss: 0.2425 - val_accuracy: 0.9148\n",
      "Epoch 21/25\n",
      "13/13 [==============================] - 0s 3ms/step - loss: 0.2773 - accuracy: 0.9053 - val_loss: 0.2552 - val_accuracy: 0.8977\n",
      "Epoch 22/25\n",
      "13/13 [==============================] - 0s 2ms/step - loss: 0.1927 - accuracy: 0.9274 - val_loss: 0.1676 - val_accuracy: 0.9432\n",
      "Epoch 23/25\n",
      "13/13 [==============================] - 0s 2ms/step - loss: 0.1598 - accuracy: 0.9426 - val_loss: 0.1494 - val_accuracy: 0.9489\n",
      "Epoch 24/25\n",
      "13/13 [==============================] - 0s 2ms/step - loss: 0.1602 - accuracy: 0.9426 - val_loss: 0.2499 - val_accuracy: 0.8920\n",
      "Epoch 25/25\n",
      "13/13 [==============================] - 0s 3ms/step - loss: 0.2171 - accuracy: 0.9299 - val_loss: 0.1672 - val_accuracy: 0.9432\n"
     ]
    },
    {
     "data": {
      "text/plain": [
       "<keras.callbacks.History at 0x16a97401e20>"
      ]
     },
     "execution_count": 29,
     "metadata": {},
     "output_type": "execute_result"
    }
   ],
   "source": [
    "batch_size = 128\n",
    "epochs = 25\n",
    "\n",
    "model.compile(loss=\"categorical_crossentropy\", optimizer=\"adam\", metrics=[\"accuracy\"])\n",
    "model.fit(X_train, y_train, batch_size=batch_size, epochs=epochs, validation_split=0.1)"
   ]
  },
  {
   "cell_type": "code",
   "execution_count": 30,
   "metadata": {},
   "outputs": [
    {
     "name": "stdout",
     "output_type": "stream",
     "text": [
      "Test loss: 0.1696\n",
      "Test accuracy: 95.00%\n"
     ]
    }
   ],
   "source": [
    "score = model.evaluate(X_test, y_test, verbose=0)\n",
    "print(\"Test loss: %.4f\" % score[0])\n",
    "print(\"Test accuracy: %.2f%%\" % (100*score[1]))"
   ]
  },
  {
   "cell_type": "code",
   "execution_count": 5,
   "metadata": {},
   "outputs": [
    {
     "name": "stdout",
     "output_type": "stream",
     "text": [
      "0\n",
      "1\n",
      "2\n",
      "3\n",
      "[{'name': 'texas', 'sentiment': 0}, {'name': 'california', 'sentiment': 1}, {'name': 'alaska', 'sentiment': 4}, {'name': 'connecticut', 'sentiment': 7}]\n"
     ]
    }
   ],
   "source": [
    "pts = []\n",
    "locations = ['texas', 'california', 'alaska', 'connecticut']\n",
    "sentiments = [0, 1, 4, 7]\n",
    "\n",
    "for i in range(len(sentiments)):\n",
    "    print(i)\n",
    "    loc = locations[i]\n",
    "    sent = sentiments[i]\n",
    "    pts.append({\"name\":loc, \"sentiment\": sent})\n",
    "\n",
    "print(pts)\n",
    "    \n",
    "\n",
    "\n"
   ]
  },
  {
   "cell_type": "code",
   "execution_count": 8,
   "metadata": {},
   "outputs": [
    {
     "name": "stdout",
     "output_type": "stream",
     "text": [
      "0\n",
      "1\n",
      "4\n",
      "7\n"
     ]
    }
   ],
   "source": [
    "for point in pts:\n",
    "    latitude = point['latitude']\n",
    "    longitude = point['longitude']\n",
    "    sentiment = point['sentiment']\n",
    "\n",
    "    if sentiment > 0.25:\n",
    "        plot (color=blue)\n",
    "    else:\n",
    "        plot (color = red)"
   ]
  },
  {
   "cell_type": "code",
   "execution_count": null,
   "metadata": {},
   "outputs": [],
   "source": []
  }
 ],
 "metadata": {
  "kernelspec": {
   "display_name": "base",
   "language": "python",
   "name": "python3"
  },
  "language_info": {
   "codemirror_mode": {
    "name": "ipython",
    "version": 3
   },
   "file_extension": ".py",
   "mimetype": "text/x-python",
   "name": "python",
   "nbconvert_exporter": "python",
   "pygments_lexer": "ipython3",
   "version": "3.8.8"
  },
  "orig_nbformat": 4
 },
 "nbformat": 4,
 "nbformat_minor": 2
}
